{
 "cells": [
  {
   "cell_type": "markdown",
   "metadata": {
    "_uuid": "1020827e241ac87ffdf8e0f8762a6885bdc28fbc"
   },
   "source": [
    "Import neccessary packages"
   ]
  },
  {
   "cell_type": "code",
   "execution_count": 1,
   "metadata": {
    "_cell_guid": "b1076dfc-b9ad-4769-8c92-a6c4dae69d19",
    "_uuid": "8f2839f25d086af736a60e9eeb907d3b93b6e0e5"
   },
   "outputs": [
    {
     "name": "stderr",
     "output_type": "stream",
     "text": [
      "Using TensorFlow backend.\n"
     ]
    }
   ],
   "source": [
    "import numpy as np\n",
    "from os import listdir\n",
    "from sklearn.preprocessing import LabelBinarizer\n",
    "from keras.models import Sequential\n",
    "from keras.layers.normalization import BatchNormalization\n",
    "from keras.layers.convolutional import Conv2D\n",
    "from keras.layers.convolutional import MaxPooling2D\n",
    "import matplotlib.pyplot as plt\n",
    "from keras.losses import categorical_crossentropy\n",
    "from sklearn.metrics import confusion_matrix,classification_report\n",
    "from keras.utils.vis_utils import plot_model\n",
    "from keras.layers.core import Activation, Flatten, Dropout, Dense\n",
    "from keras import backend as K\n",
    "from keras.preprocessing.image import ImageDataGenerator\n",
    "from keras.optimizers import Adam\n",
    "from keras.preprocessing import image\n",
    "from keras.preprocessing.image import img_to_array\n",
    "from sklearn.preprocessing import MultiLabelBinarizer\n",
    "from sklearn.model_selection import train_test_split\n",
    "import pickle\n",
    "import cv2"
   ]
  },
  {
   "cell_type": "code",
   "execution_count": 4,
   "metadata": {
    "_uuid": "bb8d4c343314028f52ae3c3a840478a834a16c95"
   },
   "outputs": [
    {
     "name": "stdout",
     "output_type": "stream",
     "text": [
      " Processing Every Folder\n",
      " Loding Images From -> Corn___Northern_Leaf_Blight \n",
      " Loding Images From -> Pepper__bell___Bacterial_spot \n",
      " Loding Images From -> Pepper__bell___healthy \n",
      " Loding Images From -> Potato___Late_blight \n",
      " Loding Images From -> Tomato_Bacterial_spot \n",
      " Loding Images From -> Tomato_Leaf_Mold \n",
      " Loding Images From -> Potato___healthy \n",
      " Loding Images From -> Potato___Early_blight \n",
      " Loding Images From -> Tomato_Late_blight \n",
      " Loding Images From -> Corn___Cercospora_Gray_leaf_spot \n",
      " Loding Images From -> Corn___Common_rust \n",
      "Image Loading completed  !!\n"
     ]
    }
   ],
   "source": [
    "#Function to convert images to array\n",
    "default_image_size = tuple((256, 256))\n",
    "image_size = 0\n",
    "def convert_image_to_array(image_dir):\n",
    "    try:\n",
    "        image = cv2.imread(image_dir)\n",
    "        if image is not None :\n",
    "            image = cv2.resize(image, default_image_size)   \n",
    "            return img_to_array(image)\n",
    "        else :\n",
    "            return np.array([])\n",
    "    except Exception as e:\n",
    "        print(f\"Error : {e}\")\n",
    "        return None\n",
    "\n",
    "\n",
    "#get images from directory\n",
    "image_list, label_list = [], []\n",
    "show_image=[]\n",
    "try:\n",
    "    print(\" Processing Every Folder\")\n",
    "    main_folder = listdir('../input/plantvillage/')\n",
    "    \n",
    "    for plant_folder in main_folder :\n",
    "        disease_folder_list = listdir(f\"{'../input/plantvillage/'}/{plant_folder}\")\n",
    "     \n",
    "        for plant_disease_folder in disease_folder_list:\n",
    "            print(f\" Loding Images From -> {plant_disease_folder} \")\n",
    "            disease_image_list = listdir(f\"{'../input/plantvillage/'}/{plant_folder}/{plant_disease_folder}/\")\n",
    "\n",
    "            for image in disease_image_list[:200]:\n",
    "                image_directory = f\"{'../input/plantvillage/'}/{plant_folder}/{plant_disease_folder}/{image}\"\n",
    "                if image_directory.endswith(\".jpg\") == True or image_directory.endswith(\".JPG\") == True:\n",
    "                    image_list.append(convert_image_to_array(image_directory))\n",
    "                    label_list.append(plant_disease_folder)\n",
    "    print(\"Image Loading completed  !!\")  \n",
    "except Exception as e:\n",
    "    print(f\"Error : {e}\")"
   ]
  },
  {
   "cell_type": "markdown",
   "metadata": {
    "_uuid": "905b41b226f3fd82a88e67821eb42a07f24b31f7"
   },
   "source": [
    "Transform Image Labels uisng [Scikit Learn](http://scikit-learn.org/)'s LabelBinarizer"
   ]
  },
  {
   "cell_type": "code",
   "execution_count": 5,
   "metadata": {
    "_uuid": "904ff893fe14f5060dd9e7be2ccf96ec793597e5"
   },
   "outputs": [],
   "source": [
    "label_binarizer = LabelBinarizer()\n",
    "image_labels = label_binarizer.fit_transform(label_list)\n",
    "pickle.dump(label_binarizer,open('label_transform.pkl', 'wb'))\n",
    "# print(image_labels)\n",
    "n_classes = len(label_binarizer.classes_)\n"
   ]
  },
  {
   "cell_type": "code",
   "execution_count": 7,
   "metadata": {
    "_uuid": "6cd9c977b3d164a5570a0c24fdd8624adb9d56b8"
   },
   "outputs": [],
   "source": [
    "np_image_list = np.array(image_list, dtype=np.float16) / 225.0"
   ]
  },
  {
   "cell_type": "code",
   "execution_count": 8,
   "metadata": {
    "_uuid": "9f4829560fdfa218cee18c1cfb2eb9452ef180e5"
   },
   "outputs": [
    {
     "name": "stdout",
     "output_type": "stream",
     "text": [
      "[INFO] Spliting data to train, test\n"
     ]
    }
   ],
   "source": [
    "print(\"Spliting data to train and test\")\n",
    "x_train, x_test, y_train, y_test = train_test_split(np_image_list, image_labels, test_size=0.2, random_state = 42) "
   ]
  },
  {
   "cell_type": "code",
   "execution_count": 9,
   "metadata": {
    "_uuid": "eec8afa64e676d52c814fc8e096955a60f13b6c5"
   },
   "outputs": [],
   "source": [
    "aug = ImageDataGenerator(\n",
    "    rotation_range=25, width_shift_range=0.1,\n",
    "    height_shift_range=0.1, shear_range=0.2, \n",
    "    zoom_range=0.2,horizontal_flip=True, \n",
    "    fill_mode=\"nearest\")"
   ]
  },
  {
   "cell_type": "code",
   "execution_count": 10,
   "metadata": {
    "_cell_guid": "79c7e3d0-c299-4dcb-8224-4455121ee9b0",
    "_uuid": "d629ff2d2480ee46fbb7e2d37f6b5fab8052498a"
   },
   "outputs": [],
   "source": [
    "model = Sequential()\n",
    "\n",
    "#first layer conv\n",
    "model.add(Conv2D(32, (3, 3), padding=\"same\",input_shape=256,256,3))\n",
    "model.add(Activation(\"relu\"))\n",
    "model.add(BatchNormalization(axis=1))\n",
    "model.add(MaxPooling2D(pool_size=(3, 3)))\n",
    "model.add(Dropout(0.25))\n",
    "\n",
    "#2nd layer conv \n",
    "model.add(Conv2D(64, (3, 3), padding=\"same\"))\n",
    "model.add(Activation(\"relu\"))\n",
    "model.add(BatchNormalization(axis=1))\n",
    "\n",
    "#3rd layer conv \n",
    "model.add(Conv2D(64, (3, 3), padding=\"same\"))\n",
    "model.add(Activation(\"relu\"))\n",
    "model.add(BatchNormalization(axis=1))\n",
    "model.add(MaxPooling2D(pool_size=(2, 2)))\n",
    "model.add(Dropout(0.25))\n",
    "\n",
    "#4th layer conv\n",
    "model.add(Conv2D(128, (3, 3), padding=\"same\"))\n",
    "model.add(Activation(\"relu\"))\n",
    "model.add(BatchNormalization(axis=1))\n",
    "\n",
    "#5th layer conv \n",
    "model.add(Conv2D(128, (3, 3), padding=\"same\"))\n",
    "model.add(Activation(\"relu\"))\n",
    "model.add(BatchNormalization(axis=1))\n",
    "model.add(MaxPooling2D(pool_size=(2, 2)))\n",
    "model.add(Dropout(0.25))\n",
    "\n",
    "#fully connected layer \n",
    "model.add(Flatten())\n",
    "model.add(Dense(1024))\n",
    "model.add(Activation(\"relu\"))\n",
    "model.add(BatchNormalization())\n",
    "model.add(Dropout(0.5))\n",
    "model.add(Dense(n_classes))\n",
    "model.add(Activation(\"softmax\"))"
   ]
  },
  {
   "cell_type": "markdown",
   "metadata": {
    "_uuid": "53b13c03e4cea6dc2453a84e254b806ebeed2d99"
   },
   "source": [
    "Model Summary"
   ]
  },
  {
   "cell_type": "code",
   "execution_count": 11,
   "metadata": {},
   "outputs": [],
   "source": [
    "# # Compile the model\n",
    "# model.compile(loss=categorical_crossentropy, optimizer=\"adam\", metrics=['accuracy'])"
   ]
  },
  {
   "cell_type": "code",
   "execution_count": 12,
   "metadata": {
    "_uuid": "b21dffee32c325136b4ea23ac511049723f34a24"
   },
   "outputs": [],
   "source": [
    "opt = Adam(lr=1e-3, decay=1e-3 / EPOCHS)\n",
    "model.compile(loss=\"binary_crossentropy\", optimizer=opt,metrics=[\"accuracy\"])"
   ]
  },
  {
   "cell_type": "code",
   "execution_count": 13,
   "metadata": {},
   "outputs": [],
   "source": [
    "from IPython.display import SVG\n",
    "from keras.utils.vis_utils import model_to_dot"
   ]
  },
  {
   "cell_type": "code",
   "execution_count": 14,
   "metadata": {},
   "outputs": [
    {
     "data": {
      "image/svg+xml": [
       "<svg height=\"2089pt\" viewBox=\"0.00 0.00 268.00 2089.00\" width=\"268pt\" xmlns=\"http://www.w3.org/2000/svg\" xmlns:xlink=\"http://www.w3.org/1999/xlink\">\n",
       "<g class=\"graph\" id=\"graph0\" transform=\"scale(1 1) rotate(0) translate(4 2085)\">\n",
       "<title>G</title>\n",
       "<polygon fill=\"white\" points=\"-4,4 -4,-2085 264,-2085 264,4 -4,4\" stroke=\"none\"/>\n",
       "<!-- 140115540814536 -->\n",
       "<g class=\"node\" id=\"node1\"><title>140115540814536</title>\n",
       "<polygon fill=\"none\" points=\"68.5,-1971.5 68.5,-2007.5 191.5,-2007.5 191.5,-1971.5 68.5,-1971.5\" stroke=\"black\"/>\n",
       "<text font-family=\"Times,serif\" font-size=\"14.00\" text-anchor=\"middle\" x=\"130\" y=\"-1985.8\">conv2d_1: Conv2D</text>\n",
       "</g>\n",
       "<!-- 140115539039960 -->\n",
       "<g class=\"node\" id=\"node2\"><title>140115539039960</title>\n",
       "<polygon fill=\"none\" points=\"56,-1898.5 56,-1934.5 204,-1934.5 204,-1898.5 56,-1898.5\" stroke=\"black\"/>\n",
       "<text font-family=\"Times,serif\" font-size=\"14.00\" text-anchor=\"middle\" x=\"130\" y=\"-1912.8\">activation_1: Activation</text>\n",
       "</g>\n",
       "<!-- 140115540814536&#45;&gt;140115539039960 -->\n",
       "<g class=\"edge\" id=\"edge2\"><title>140115540814536-&gt;140115539039960</title>\n",
       "<path d=\"M130,-1971.31C130,-1963.29 130,-1953.55 130,-1944.57\" fill=\"none\" stroke=\"black\"/>\n",
       "<polygon fill=\"black\" points=\"133.5,-1944.53 130,-1934.53 126.5,-1944.53 133.5,-1944.53\" stroke=\"black\"/>\n",
       "</g>\n",
       "<!-- 140115539041024 -->\n",
       "<g class=\"node\" id=\"node3\"><title>140115539041024</title>\n",
       "<polygon fill=\"none\" points=\"0,-1825.5 0,-1861.5 260,-1861.5 260,-1825.5 0,-1825.5\" stroke=\"black\"/>\n",
       "<text font-family=\"Times,serif\" font-size=\"14.00\" text-anchor=\"middle\" x=\"130\" y=\"-1839.8\">batch_normalization_1: BatchNormalization</text>\n",
       "</g>\n",
       "<!-- 140115539039960&#45;&gt;140115539041024 -->\n",
       "<g class=\"edge\" id=\"edge3\"><title>140115539039960-&gt;140115539041024</title>\n",
       "<path d=\"M130,-1898.31C130,-1890.29 130,-1880.55 130,-1871.57\" fill=\"none\" stroke=\"black\"/>\n",
       "<polygon fill=\"black\" points=\"133.5,-1871.53 130,-1861.53 126.5,-1871.53 133.5,-1871.53\" stroke=\"black\"/>\n",
       "</g>\n",
       "<!-- 140115539041248 -->\n",
       "<g class=\"node\" id=\"node4\"><title>140115539041248</title>\n",
       "<polygon fill=\"none\" points=\"26.5,-1752.5 26.5,-1788.5 233.5,-1788.5 233.5,-1752.5 26.5,-1752.5\" stroke=\"black\"/>\n",
       "<text font-family=\"Times,serif\" font-size=\"14.00\" text-anchor=\"middle\" x=\"130\" y=\"-1766.8\">max_pooling2d_1: MaxPooling2D</text>\n",
       "</g>\n",
       "<!-- 140115539041024&#45;&gt;140115539041248 -->\n",
       "<g class=\"edge\" id=\"edge4\"><title>140115539041024-&gt;140115539041248</title>\n",
       "<path d=\"M130,-1825.31C130,-1817.29 130,-1807.55 130,-1798.57\" fill=\"none\" stroke=\"black\"/>\n",
       "<polygon fill=\"black\" points=\"133.5,-1798.53 130,-1788.53 126.5,-1798.53 133.5,-1798.53\" stroke=\"black\"/>\n",
       "</g>\n",
       "<!-- 140115539041192 -->\n",
       "<g class=\"node\" id=\"node5\"><title>140115539041192</title>\n",
       "<polygon fill=\"none\" points=\"67.5,-1679.5 67.5,-1715.5 192.5,-1715.5 192.5,-1679.5 67.5,-1679.5\" stroke=\"black\"/>\n",
       "<text font-family=\"Times,serif\" font-size=\"14.00\" text-anchor=\"middle\" x=\"130\" y=\"-1693.8\">dropout_1: Dropout</text>\n",
       "</g>\n",
       "<!-- 140115539041248&#45;&gt;140115539041192 -->\n",
       "<g class=\"edge\" id=\"edge5\"><title>140115539041248-&gt;140115539041192</title>\n",
       "<path d=\"M130,-1752.31C130,-1744.29 130,-1734.55 130,-1725.57\" fill=\"none\" stroke=\"black\"/>\n",
       "<polygon fill=\"black\" points=\"133.5,-1725.53 130,-1715.53 126.5,-1725.53 133.5,-1725.53\" stroke=\"black\"/>\n",
       "</g>\n",
       "<!-- 140115539671976 -->\n",
       "<g class=\"node\" id=\"node6\"><title>140115539671976</title>\n",
       "<polygon fill=\"none\" points=\"68.5,-1606.5 68.5,-1642.5 191.5,-1642.5 191.5,-1606.5 68.5,-1606.5\" stroke=\"black\"/>\n",
       "<text font-family=\"Times,serif\" font-size=\"14.00\" text-anchor=\"middle\" x=\"130\" y=\"-1620.8\">conv2d_2: Conv2D</text>\n",
       "</g>\n",
       "<!-- 140115539041192&#45;&gt;140115539671976 -->\n",
       "<g class=\"edge\" id=\"edge6\"><title>140115539041192-&gt;140115539671976</title>\n",
       "<path d=\"M130,-1679.31C130,-1671.29 130,-1661.55 130,-1652.57\" fill=\"none\" stroke=\"black\"/>\n",
       "<polygon fill=\"black\" points=\"133.5,-1652.53 130,-1642.53 126.5,-1652.53 133.5,-1652.53\" stroke=\"black\"/>\n",
       "</g>\n",
       "<!-- 140115539041304 -->\n",
       "<g class=\"node\" id=\"node7\"><title>140115539041304</title>\n",
       "<polygon fill=\"none\" points=\"56,-1533.5 56,-1569.5 204,-1569.5 204,-1533.5 56,-1533.5\" stroke=\"black\"/>\n",
       "<text font-family=\"Times,serif\" font-size=\"14.00\" text-anchor=\"middle\" x=\"130\" y=\"-1547.8\">activation_2: Activation</text>\n",
       "</g>\n",
       "<!-- 140115539671976&#45;&gt;140115539041304 -->\n",
       "<g class=\"edge\" id=\"edge7\"><title>140115539671976-&gt;140115539041304</title>\n",
       "<path d=\"M130,-1606.31C130,-1598.29 130,-1588.55 130,-1579.57\" fill=\"none\" stroke=\"black\"/>\n",
       "<polygon fill=\"black\" points=\"133.5,-1579.53 130,-1569.53 126.5,-1579.53 133.5,-1579.53\" stroke=\"black\"/>\n",
       "</g>\n",
       "<!-- 140115537809192 -->\n",
       "<g class=\"node\" id=\"node8\"><title>140115537809192</title>\n",
       "<polygon fill=\"none\" points=\"0,-1460.5 0,-1496.5 260,-1496.5 260,-1460.5 0,-1460.5\" stroke=\"black\"/>\n",
       "<text font-family=\"Times,serif\" font-size=\"14.00\" text-anchor=\"middle\" x=\"130\" y=\"-1474.8\">batch_normalization_2: BatchNormalization</text>\n",
       "</g>\n",
       "<!-- 140115539041304&#45;&gt;140115537809192 -->\n",
       "<g class=\"edge\" id=\"edge8\"><title>140115539041304-&gt;140115537809192</title>\n",
       "<path d=\"M130,-1533.31C130,-1525.29 130,-1515.55 130,-1506.57\" fill=\"none\" stroke=\"black\"/>\n",
       "<polygon fill=\"black\" points=\"133.5,-1506.53 130,-1496.53 126.5,-1506.53 133.5,-1506.53\" stroke=\"black\"/>\n",
       "</g>\n",
       "<!-- 140115538032400 -->\n",
       "<g class=\"node\" id=\"node9\"><title>140115538032400</title>\n",
       "<polygon fill=\"none\" points=\"68.5,-1387.5 68.5,-1423.5 191.5,-1423.5 191.5,-1387.5 68.5,-1387.5\" stroke=\"black\"/>\n",
       "<text font-family=\"Times,serif\" font-size=\"14.00\" text-anchor=\"middle\" x=\"130\" y=\"-1401.8\">conv2d_3: Conv2D</text>\n",
       "</g>\n",
       "<!-- 140115537809192&#45;&gt;140115538032400 -->\n",
       "<g class=\"edge\" id=\"edge9\"><title>140115537809192-&gt;140115538032400</title>\n",
       "<path d=\"M130,-1460.31C130,-1452.29 130,-1442.55 130,-1433.57\" fill=\"none\" stroke=\"black\"/>\n",
       "<polygon fill=\"black\" points=\"133.5,-1433.53 130,-1423.53 126.5,-1433.53 133.5,-1433.53\" stroke=\"black\"/>\n",
       "</g>\n",
       "<!-- 140115538032288 -->\n",
       "<g class=\"node\" id=\"node10\"><title>140115538032288</title>\n",
       "<polygon fill=\"none\" points=\"56,-1314.5 56,-1350.5 204,-1350.5 204,-1314.5 56,-1314.5\" stroke=\"black\"/>\n",
       "<text font-family=\"Times,serif\" font-size=\"14.00\" text-anchor=\"middle\" x=\"130\" y=\"-1328.8\">activation_3: Activation</text>\n",
       "</g>\n",
       "<!-- 140115538032400&#45;&gt;140115538032288 -->\n",
       "<g class=\"edge\" id=\"edge10\"><title>140115538032400-&gt;140115538032288</title>\n",
       "<path d=\"M130,-1387.31C130,-1379.29 130,-1369.55 130,-1360.57\" fill=\"none\" stroke=\"black\"/>\n",
       "<polygon fill=\"black\" points=\"133.5,-1360.53 130,-1350.53 126.5,-1360.53 133.5,-1360.53\" stroke=\"black\"/>\n",
       "</g>\n",
       "<!-- 140113829954784 -->\n",
       "<g class=\"node\" id=\"node11\"><title>140113829954784</title>\n",
       "<polygon fill=\"none\" points=\"0,-1241.5 0,-1277.5 260,-1277.5 260,-1241.5 0,-1241.5\" stroke=\"black\"/>\n",
       "<text font-family=\"Times,serif\" font-size=\"14.00\" text-anchor=\"middle\" x=\"130\" y=\"-1255.8\">batch_normalization_3: BatchNormalization</text>\n",
       "</g>\n",
       "<!-- 140115538032288&#45;&gt;140113829954784 -->\n",
       "<g class=\"edge\" id=\"edge11\"><title>140115538032288-&gt;140113829954784</title>\n",
       "<path d=\"M130,-1314.31C130,-1306.29 130,-1296.55 130,-1287.57\" fill=\"none\" stroke=\"black\"/>\n",
       "<polygon fill=\"black\" points=\"133.5,-1287.53 130,-1277.53 126.5,-1287.53 133.5,-1287.53\" stroke=\"black\"/>\n",
       "</g>\n",
       "<!-- 140113830190496 -->\n",
       "<g class=\"node\" id=\"node12\"><title>140113830190496</title>\n",
       "<polygon fill=\"none\" points=\"26.5,-1168.5 26.5,-1204.5 233.5,-1204.5 233.5,-1168.5 26.5,-1168.5\" stroke=\"black\"/>\n",
       "<text font-family=\"Times,serif\" font-size=\"14.00\" text-anchor=\"middle\" x=\"130\" y=\"-1182.8\">max_pooling2d_2: MaxPooling2D</text>\n",
       "</g>\n",
       "<!-- 140113829954784&#45;&gt;140113830190496 -->\n",
       "<g class=\"edge\" id=\"edge12\"><title>140113829954784-&gt;140113830190496</title>\n",
       "<path d=\"M130,-1241.31C130,-1233.29 130,-1223.55 130,-1214.57\" fill=\"none\" stroke=\"black\"/>\n",
       "<polygon fill=\"black\" points=\"133.5,-1214.53 130,-1204.53 126.5,-1214.53 133.5,-1214.53\" stroke=\"black\"/>\n",
       "</g>\n",
       "<!-- 140113830190440 -->\n",
       "<g class=\"node\" id=\"node13\"><title>140113830190440</title>\n",
       "<polygon fill=\"none\" points=\"67.5,-1095.5 67.5,-1131.5 192.5,-1131.5 192.5,-1095.5 67.5,-1095.5\" stroke=\"black\"/>\n",
       "<text font-family=\"Times,serif\" font-size=\"14.00\" text-anchor=\"middle\" x=\"130\" y=\"-1109.8\">dropout_2: Dropout</text>\n",
       "</g>\n",
       "<!-- 140113830190496&#45;&gt;140113830190440 -->\n",
       "<g class=\"edge\" id=\"edge13\"><title>140113830190496-&gt;140113830190440</title>\n",
       "<path d=\"M130,-1168.31C130,-1160.29 130,-1150.55 130,-1141.57\" fill=\"none\" stroke=\"black\"/>\n",
       "<polygon fill=\"black\" points=\"133.5,-1141.53 130,-1131.53 126.5,-1141.53 133.5,-1141.53\" stroke=\"black\"/>\n",
       "</g>\n",
       "<!-- 140113829129128 -->\n",
       "<g class=\"node\" id=\"node14\"><title>140113829129128</title>\n",
       "<polygon fill=\"none\" points=\"68.5,-1022.5 68.5,-1058.5 191.5,-1058.5 191.5,-1022.5 68.5,-1022.5\" stroke=\"black\"/>\n",
       "<text font-family=\"Times,serif\" font-size=\"14.00\" text-anchor=\"middle\" x=\"130\" y=\"-1036.8\">conv2d_4: Conv2D</text>\n",
       "</g>\n",
       "<!-- 140113830190440&#45;&gt;140113829129128 -->\n",
       "<g class=\"edge\" id=\"edge14\"><title>140113830190440-&gt;140113829129128</title>\n",
       "<path d=\"M130,-1095.31C130,-1087.29 130,-1077.55 130,-1068.57\" fill=\"none\" stroke=\"black\"/>\n",
       "<polygon fill=\"black\" points=\"133.5,-1068.53 130,-1058.53 126.5,-1068.53 133.5,-1068.53\" stroke=\"black\"/>\n",
       "</g>\n",
       "<!-- 140113829463096 -->\n",
       "<g class=\"node\" id=\"node15\"><title>140113829463096</title>\n",
       "<polygon fill=\"none\" points=\"56,-949.5 56,-985.5 204,-985.5 204,-949.5 56,-949.5\" stroke=\"black\"/>\n",
       "<text font-family=\"Times,serif\" font-size=\"14.00\" text-anchor=\"middle\" x=\"130\" y=\"-963.8\">activation_4: Activation</text>\n",
       "</g>\n",
       "<!-- 140113829129128&#45;&gt;140113829463096 -->\n",
       "<g class=\"edge\" id=\"edge15\"><title>140113829129128-&gt;140113829463096</title>\n",
       "<path d=\"M130,-1022.31C130,-1014.29 130,-1004.55 130,-995.569\" fill=\"none\" stroke=\"black\"/>\n",
       "<polygon fill=\"black\" points=\"133.5,-995.529 130,-985.529 126.5,-995.529 133.5,-995.529\" stroke=\"black\"/>\n",
       "</g>\n",
       "<!-- 140113443196488 -->\n",
       "<g class=\"node\" id=\"node16\"><title>140113443196488</title>\n",
       "<polygon fill=\"none\" points=\"0,-876.5 0,-912.5 260,-912.5 260,-876.5 0,-876.5\" stroke=\"black\"/>\n",
       "<text font-family=\"Times,serif\" font-size=\"14.00\" text-anchor=\"middle\" x=\"130\" y=\"-890.8\">batch_normalization_4: BatchNormalization</text>\n",
       "</g>\n",
       "<!-- 140113829463096&#45;&gt;140113443196488 -->\n",
       "<g class=\"edge\" id=\"edge16\"><title>140113829463096-&gt;140113443196488</title>\n",
       "<path d=\"M130,-949.313C130,-941.289 130,-931.547 130,-922.569\" fill=\"none\" stroke=\"black\"/>\n",
       "<polygon fill=\"black\" points=\"133.5,-922.529 130,-912.529 126.5,-922.529 133.5,-922.529\" stroke=\"black\"/>\n",
       "</g>\n",
       "<!-- 140113443196656 -->\n",
       "<g class=\"node\" id=\"node17\"><title>140113443196656</title>\n",
       "<polygon fill=\"none\" points=\"68.5,-803.5 68.5,-839.5 191.5,-839.5 191.5,-803.5 68.5,-803.5\" stroke=\"black\"/>\n",
       "<text font-family=\"Times,serif\" font-size=\"14.00\" text-anchor=\"middle\" x=\"130\" y=\"-817.8\">conv2d_5: Conv2D</text>\n",
       "</g>\n",
       "<!-- 140113443196488&#45;&gt;140113443196656 -->\n",
       "<g class=\"edge\" id=\"edge17\"><title>140113443196488-&gt;140113443196656</title>\n",
       "<path d=\"M130,-876.313C130,-868.289 130,-858.547 130,-849.569\" fill=\"none\" stroke=\"black\"/>\n",
       "<polygon fill=\"black\" points=\"133.5,-849.529 130,-839.529 126.5,-849.529 133.5,-849.529\" stroke=\"black\"/>\n",
       "</g>\n",
       "<!-- 140113384230304 -->\n",
       "<g class=\"node\" id=\"node18\"><title>140113384230304</title>\n",
       "<polygon fill=\"none\" points=\"56,-730.5 56,-766.5 204,-766.5 204,-730.5 56,-730.5\" stroke=\"black\"/>\n",
       "<text font-family=\"Times,serif\" font-size=\"14.00\" text-anchor=\"middle\" x=\"130\" y=\"-744.8\">activation_5: Activation</text>\n",
       "</g>\n",
       "<!-- 140113443196656&#45;&gt;140113384230304 -->\n",
       "<g class=\"edge\" id=\"edge18\"><title>140113443196656-&gt;140113384230304</title>\n",
       "<path d=\"M130,-803.313C130,-795.289 130,-785.547 130,-776.569\" fill=\"none\" stroke=\"black\"/>\n",
       "<polygon fill=\"black\" points=\"133.5,-776.529 130,-766.529 126.5,-776.529 133.5,-776.529\" stroke=\"black\"/>\n",
       "</g>\n",
       "<!-- 140113383595928 -->\n",
       "<g class=\"node\" id=\"node19\"><title>140113383595928</title>\n",
       "<polygon fill=\"none\" points=\"0,-657.5 0,-693.5 260,-693.5 260,-657.5 0,-657.5\" stroke=\"black\"/>\n",
       "<text font-family=\"Times,serif\" font-size=\"14.00\" text-anchor=\"middle\" x=\"130\" y=\"-671.8\">batch_normalization_5: BatchNormalization</text>\n",
       "</g>\n",
       "<!-- 140113384230304&#45;&gt;140113383595928 -->\n",
       "<g class=\"edge\" id=\"edge19\"><title>140113384230304-&gt;140113383595928</title>\n",
       "<path d=\"M130,-730.313C130,-722.289 130,-712.547 130,-703.569\" fill=\"none\" stroke=\"black\"/>\n",
       "<polygon fill=\"black\" points=\"133.5,-703.529 130,-693.529 126.5,-703.529 133.5,-703.529\" stroke=\"black\"/>\n",
       "</g>\n",
       "<!-- 140113384006208 -->\n",
       "<g class=\"node\" id=\"node20\"><title>140113384006208</title>\n",
       "<polygon fill=\"none\" points=\"26.5,-584.5 26.5,-620.5 233.5,-620.5 233.5,-584.5 26.5,-584.5\" stroke=\"black\"/>\n",
       "<text font-family=\"Times,serif\" font-size=\"14.00\" text-anchor=\"middle\" x=\"130\" y=\"-598.8\">max_pooling2d_3: MaxPooling2D</text>\n",
       "</g>\n",
       "<!-- 140113383595928&#45;&gt;140113384006208 -->\n",
       "<g class=\"edge\" id=\"edge20\"><title>140113383595928-&gt;140113384006208</title>\n",
       "<path d=\"M130,-657.313C130,-649.289 130,-639.547 130,-630.569\" fill=\"none\" stroke=\"black\"/>\n",
       "<polygon fill=\"black\" points=\"133.5,-630.529 130,-620.529 126.5,-630.529 133.5,-630.529\" stroke=\"black\"/>\n",
       "</g>\n",
       "<!-- 140113384008224 -->\n",
       "<g class=\"node\" id=\"node21\"><title>140113384008224</title>\n",
       "<polygon fill=\"none\" points=\"67.5,-511.5 67.5,-547.5 192.5,-547.5 192.5,-511.5 67.5,-511.5\" stroke=\"black\"/>\n",
       "<text font-family=\"Times,serif\" font-size=\"14.00\" text-anchor=\"middle\" x=\"130\" y=\"-525.8\">dropout_3: Dropout</text>\n",
       "</g>\n",
       "<!-- 140113384006208&#45;&gt;140113384008224 -->\n",
       "<g class=\"edge\" id=\"edge21\"><title>140113384006208-&gt;140113384008224</title>\n",
       "<path d=\"M130,-584.313C130,-576.289 130,-566.547 130,-557.569\" fill=\"none\" stroke=\"black\"/>\n",
       "<polygon fill=\"black\" points=\"133.5,-557.529 130,-547.529 126.5,-557.529 133.5,-557.529\" stroke=\"black\"/>\n",
       "</g>\n",
       "<!-- 140113382780208 -->\n",
       "<g class=\"node\" id=\"node22\"><title>140113382780208</title>\n",
       "<polygon fill=\"none\" points=\"75,-438.5 75,-474.5 185,-474.5 185,-438.5 75,-438.5\" stroke=\"black\"/>\n",
       "<text font-family=\"Times,serif\" font-size=\"14.00\" text-anchor=\"middle\" x=\"130\" y=\"-452.8\">flatten_1: Flatten</text>\n",
       "</g>\n",
       "<!-- 140113384008224&#45;&gt;140113382780208 -->\n",
       "<g class=\"edge\" id=\"edge22\"><title>140113384008224-&gt;140113382780208</title>\n",
       "<path d=\"M130,-511.313C130,-503.289 130,-493.547 130,-484.569\" fill=\"none\" stroke=\"black\"/>\n",
       "<polygon fill=\"black\" points=\"133.5,-484.529 130,-474.529 126.5,-484.529 133.5,-484.529\" stroke=\"black\"/>\n",
       "</g>\n",
       "<!-- 140113382514360 -->\n",
       "<g class=\"node\" id=\"node23\"><title>140113382514360</title>\n",
       "<polygon fill=\"none\" points=\"79,-365.5 79,-401.5 181,-401.5 181,-365.5 79,-365.5\" stroke=\"black\"/>\n",
       "<text font-family=\"Times,serif\" font-size=\"14.00\" text-anchor=\"middle\" x=\"130\" y=\"-379.8\">dense_1: Dense</text>\n",
       "</g>\n",
       "<!-- 140113382780208&#45;&gt;140113382514360 -->\n",
       "<g class=\"edge\" id=\"edge23\"><title>140113382780208-&gt;140113382514360</title>\n",
       "<path d=\"M130,-438.313C130,-430.289 130,-420.547 130,-411.569\" fill=\"none\" stroke=\"black\"/>\n",
       "<polygon fill=\"black\" points=\"133.5,-411.529 130,-401.529 126.5,-411.529 133.5,-411.529\" stroke=\"black\"/>\n",
       "</g>\n",
       "<!-- 140113382915768 -->\n",
       "<g class=\"node\" id=\"node24\"><title>140113382915768</title>\n",
       "<polygon fill=\"none\" points=\"56,-292.5 56,-328.5 204,-328.5 204,-292.5 56,-292.5\" stroke=\"black\"/>\n",
       "<text font-family=\"Times,serif\" font-size=\"14.00\" text-anchor=\"middle\" x=\"130\" y=\"-306.8\">activation_6: Activation</text>\n",
       "</g>\n",
       "<!-- 140113382514360&#45;&gt;140113382915768 -->\n",
       "<g class=\"edge\" id=\"edge24\"><title>140113382514360-&gt;140113382915768</title>\n",
       "<path d=\"M130,-365.313C130,-357.289 130,-347.547 130,-338.569\" fill=\"none\" stroke=\"black\"/>\n",
       "<polygon fill=\"black\" points=\"133.5,-338.529 130,-328.529 126.5,-338.529 133.5,-338.529\" stroke=\"black\"/>\n",
       "</g>\n",
       "<!-- 140113377019384 -->\n",
       "<g class=\"node\" id=\"node25\"><title>140113377019384</title>\n",
       "<polygon fill=\"none\" points=\"0,-219.5 0,-255.5 260,-255.5 260,-219.5 0,-219.5\" stroke=\"black\"/>\n",
       "<text font-family=\"Times,serif\" font-size=\"14.00\" text-anchor=\"middle\" x=\"130\" y=\"-233.8\">batch_normalization_6: BatchNormalization</text>\n",
       "</g>\n",
       "<!-- 140113382915768&#45;&gt;140113377019384 -->\n",
       "<g class=\"edge\" id=\"edge25\"><title>140113382915768-&gt;140113377019384</title>\n",
       "<path d=\"M130,-292.313C130,-284.289 130,-274.547 130,-265.569\" fill=\"none\" stroke=\"black\"/>\n",
       "<polygon fill=\"black\" points=\"133.5,-265.529 130,-255.529 126.5,-265.529 133.5,-265.529\" stroke=\"black\"/>\n",
       "</g>\n",
       "<!-- 140113377021848 -->\n",
       "<g class=\"node\" id=\"node26\"><title>140113377021848</title>\n",
       "<polygon fill=\"none\" points=\"67.5,-146.5 67.5,-182.5 192.5,-182.5 192.5,-146.5 67.5,-146.5\" stroke=\"black\"/>\n",
       "<text font-family=\"Times,serif\" font-size=\"14.00\" text-anchor=\"middle\" x=\"130\" y=\"-160.8\">dropout_4: Dropout</text>\n",
       "</g>\n",
       "<!-- 140113377019384&#45;&gt;140113377021848 -->\n",
       "<g class=\"edge\" id=\"edge26\"><title>140113377019384-&gt;140113377021848</title>\n",
       "<path d=\"M130,-219.313C130,-211.289 130,-201.547 130,-192.569\" fill=\"none\" stroke=\"black\"/>\n",
       "<polygon fill=\"black\" points=\"133.5,-192.529 130,-182.529 126.5,-192.529 133.5,-192.529\" stroke=\"black\"/>\n",
       "</g>\n",
       "<!-- 140113377019608 -->\n",
       "<g class=\"node\" id=\"node27\"><title>140113377019608</title>\n",
       "<polygon fill=\"none\" points=\"79,-73.5 79,-109.5 181,-109.5 181,-73.5 79,-73.5\" stroke=\"black\"/>\n",
       "<text font-family=\"Times,serif\" font-size=\"14.00\" text-anchor=\"middle\" x=\"130\" y=\"-87.8\">dense_2: Dense</text>\n",
       "</g>\n",
       "<!-- 140113377021848&#45;&gt;140113377019608 -->\n",
       "<g class=\"edge\" id=\"edge27\"><title>140113377021848-&gt;140113377019608</title>\n",
       "<path d=\"M130,-146.313C130,-138.289 130,-128.547 130,-119.569\" fill=\"none\" stroke=\"black\"/>\n",
       "<polygon fill=\"black\" points=\"133.5,-119.529 130,-109.529 126.5,-119.529 133.5,-119.529\" stroke=\"black\"/>\n",
       "</g>\n",
       "<!-- 140118419336328 -->\n",
       "<g class=\"node\" id=\"node28\"><title>140118419336328</title>\n",
       "<polygon fill=\"none\" points=\"56,-0.5 56,-36.5 204,-36.5 204,-0.5 56,-0.5\" stroke=\"black\"/>\n",
       "<text font-family=\"Times,serif\" font-size=\"14.00\" text-anchor=\"middle\" x=\"130\" y=\"-14.8\">activation_7: Activation</text>\n",
       "</g>\n",
       "<!-- 140113377019608&#45;&gt;140118419336328 -->\n",
       "<g class=\"edge\" id=\"edge28\"><title>140113377019608-&gt;140118419336328</title>\n",
       "<path d=\"M130,-73.3129C130,-65.2895 130,-55.5475 130,-46.5691\" fill=\"none\" stroke=\"black\"/>\n",
       "<polygon fill=\"black\" points=\"133.5,-46.5288 130,-36.5288 126.5,-46.5289 133.5,-46.5288\" stroke=\"black\"/>\n",
       "</g>\n",
       "<!-- 140115539040744 -->\n",
       "<g class=\"node\" id=\"node29\"><title>140115539040744</title>\n",
       "<polygon fill=\"none\" points=\"71,-2044.5 71,-2080.5 189,-2080.5 189,-2044.5 71,-2044.5\" stroke=\"black\"/>\n",
       "<text font-family=\"Times,serif\" font-size=\"14.00\" text-anchor=\"middle\" x=\"130\" y=\"-2058.8\">140115539040744</text>\n",
       "</g>\n",
       "<!-- 140115539040744&#45;&gt;140115540814536 -->\n",
       "<g class=\"edge\" id=\"edge1\"><title>140115539040744-&gt;140115540814536</title>\n",
       "<path d=\"M130,-2044.31C130,-2036.29 130,-2026.55 130,-2017.57\" fill=\"none\" stroke=\"black\"/>\n",
       "<polygon fill=\"black\" points=\"133.5,-2017.53 130,-2007.53 126.5,-2017.53 133.5,-2017.53\" stroke=\"black\"/>\n",
       "</g>\n",
       "</g>\n",
       "</svg>"
      ],
      "text/plain": [
       "<IPython.core.display.SVG object>"
      ]
     },
     "execution_count": 14,
     "metadata": {},
     "output_type": "execute_result"
    }
   ],
   "source": [
    "SVG(model_to_dot(model).create(prog='dot',format='svg'))"
   ]
  },
  {
   "cell_type": "code",
   "execution_count": 15,
   "metadata": {
    "_uuid": "1a13efc5ded339fc3c0d9e61041e8ca555362db0"
   },
   "outputs": [
    {
     "name": "stdout",
     "output_type": "stream",
     "text": [
      "Epoch 1/25\n",
      "53/53 [==============================] - 31s 593ms/step - loss: 0.2360 - acc: 0.9216 - val_loss: 0.2452 - val_acc: 0.9311\n",
      "Epoch 2/25\n",
      "53/53 [==============================] - 22s 417ms/step - loss: 0.2008 - acc: 0.9313 - val_loss: 1.4690 - val_acc: 0.8501\n",
      "Epoch 3/25\n",
      "53/53 [==============================] - 23s 425ms/step - loss: 0.1568 - acc: 0.9456 - val_loss: 0.2895 - val_acc: 0.9214\n",
      "Epoch 4/25\n",
      "53/53 [==============================] - 22s 422ms/step - loss: 0.1361 - acc: 0.9507 - val_loss: 0.5357 - val_acc: 0.9036\n",
      "Epoch 5/25\n",
      "53/53 [==============================] - 22s 419ms/step - loss: 0.1354 - acc: 0.9530 - val_loss: 0.2626 - val_acc: 0.9345\n",
      "Epoch 6/25\n",
      "53/53 [==============================] - 22s 419ms/step - loss: 0.1170 - acc: 0.9585 - val_loss: 0.4257 - val_acc: 0.9188\n",
      "Epoch 7/25\n",
      "53/53 [==============================] - 22s 420ms/step - loss: 0.1058 - acc: 0.9620 - val_loss: 0.7324 - val_acc: 0.8945\n",
      "Epoch 8/25\n",
      "53/53 [==============================] - 23s 436ms/step - loss: 0.0894 - acc: 0.9654 - val_loss: 0.4901 - val_acc: 0.9104\n",
      "Epoch 9/25\n",
      "53/53 [==============================] - 22s 420ms/step - loss: 0.0779 - acc: 0.9699 - val_loss: 0.3051 - val_acc: 0.9366\n",
      "Epoch 10/25\n",
      "53/53 [==============================] - 22s 421ms/step - loss: 0.0736 - acc: 0.9723 - val_loss: 0.1809 - val_acc: 0.9503\n",
      "Epoch 11/25\n",
      "53/53 [==============================] - 22s 421ms/step - loss: 0.0714 - acc: 0.9741 - val_loss: 1.0583 - val_acc: 0.8776\n",
      "Epoch 12/25\n",
      "53/53 [==============================] - 22s 418ms/step - loss: 0.0641 - acc: 0.9750 - val_loss: 0.3138 - val_acc: 0.9281\n",
      "Epoch 13/25\n",
      "53/53 [==============================] - 22s 420ms/step - loss: 0.0604 - acc: 0.9767 - val_loss: 0.2855 - val_acc: 0.9304\n",
      "Epoch 14/25\n",
      "53/53 [==============================] - 22s 423ms/step - loss: 0.0686 - acc: 0.9751 - val_loss: 0.2764 - val_acc: 0.9366\n",
      "Epoch 15/25\n",
      "53/53 [==============================] - 22s 418ms/step - loss: 0.0692 - acc: 0.9740 - val_loss: 0.2888 - val_acc: 0.9315\n",
      "Epoch 16/25\n",
      "53/53 [==============================] - 22s 417ms/step - loss: 0.0490 - acc: 0.9804 - val_loss: 0.2840 - val_acc: 0.9404\n",
      "Epoch 17/25\n",
      "53/53 [==============================] - 22s 423ms/step - loss: 0.0562 - acc: 0.9790 - val_loss: 0.2592 - val_acc: 0.9419\n",
      "Epoch 18/25\n",
      "53/53 [==============================] - 22s 423ms/step - loss: 0.0643 - acc: 0.9774 - val_loss: 0.3024 - val_acc: 0.9258\n",
      "Epoch 19/25\n",
      "53/53 [==============================] - 22s 418ms/step - loss: 0.0575 - acc: 0.9780 - val_loss: 0.1726 - val_acc: 0.9569\n",
      "Epoch 20/25\n",
      "53/53 [==============================] - 22s 418ms/step - loss: 0.0563 - acc: 0.9788 - val_loss: 0.7772 - val_acc: 0.8918\n",
      "Epoch 21/25\n",
      "53/53 [==============================] - 22s 419ms/step - loss: 0.0482 - acc: 0.9806 - val_loss: 0.2700 - val_acc: 0.9488\n",
      "Epoch 22/25\n",
      "53/53 [==============================] - 23s 431ms/step - loss: 0.0479 - acc: 0.9822 - val_loss: 0.1737 - val_acc: 0.9626\n",
      "Epoch 23/25\n",
      "53/53 [==============================] - 22s 414ms/step - loss: 0.0400 - acc: 0.9858 - val_loss: 0.2065 - val_acc: 0.9490\n",
      "Epoch 24/25\n",
      "53/53 [==============================] - 22s 418ms/step - loss: 0.0406 - acc: 0.9844 - val_loss: 0.3049 - val_acc: 0.9364\n",
      "Epoch 25/25\n",
      "53/53 [==============================] - 22s 422ms/step - loss: 0.0355 - acc: 0.9862 - val_loss: 0.1465 - val_acc: 0.9677\n"
     ]
    }
   ],
   "source": [
    "EPOCHS = 25\n",
    "BS = 32\n",
    "history = model.fit_generator(\n",
    "    aug.flow(x_train, y_train, batch_size=BS),\n",
    "    validation_data=(x_test, y_test),\n",
    "    steps_per_epoch=len(x_train) // BS,\n",
    "    epochs=EPOCHS, verbose=1\n",
    "    )"
   ]
  },
  {
   "cell_type": "markdown",
   "metadata": {
    "_uuid": "1495fea08b37e4d4293f975ba30e6c1fc7a85ed9"
   },
   "source": [
    "Plot the train and val curve"
   ]
  },
  {
   "cell_type": "code",
   "execution_count": 16,
   "metadata": {
    "_uuid": "0af5e0f23657a4effc2d21cf8e840e81f42ec8e7"
   },
   "outputs": [
    {
     "data": {
      "image/png": "[encoded data removed]",
      "text/plain": [
       "<Figure size 432x288 with 1 Axes>"
      ]
     },
     "metadata": {
      "needs_background": "light"
     },
     "output_type": "display_data"
    },
    {
     "data": {
      "image/png": "[encoded data removed]",
      "text/plain": [
       "<Figure size 432x288 with 1 Axes>"
      ]
     },
     "metadata": {
      "needs_background": "light"
     },
     "output_type": "display_data"
    }
   ],
   "source": [
    "acc = history.history['acc']\n",
    "val_acc = history.history['val_acc']\n",
    "loss = history.history['loss']\n",
    "val_loss = history.history['val_loss']\n",
    "epochs = range(1, len(acc) + 1)\n",
    "#Train and validation accuracy\n",
    "plt.plot(epochs, acc, 'b', label='Training accurarcy')\n",
    "plt.plot(epochs, val_acc, 'r', label='Validation accurarcy')\n",
    "plt.title('Training and Validation accurarcy')\n",
    "plt.legend()\n",
    "\n",
    "plt.figure()\n",
    "#Train and validation loss\n",
    "plt.plot(epochs, loss, 'b', label='Training loss')\n",
    "plt.plot(epochs, val_loss, 'r', label='Validation loss')\n",
    "plt.title('Training and Validation loss')\n",
    "plt.legend()\n",
    "plt.show()"
   ]
  },
  {
   "cell_type": "markdown",
   "metadata": {
    "_uuid": "9ca1a4489bd624c69a13cd37c0c2306ac8de55c2"
   },
   "source": [
    "Model Accuracy"
   ]
  },
  {
   "cell_type": "code",
   "execution_count": 17,
   "metadata": {
    "_uuid": "bb44f3d0b7e2862bc7d1a032612ebfd48212c1fe"
   },
   "outputs": [
    {
     "name": "stdout",
     "output_type": "stream",
     "text": [
      "[INFO] Calculating model accuracy\n",
      "430/430 [==============================] - 1s 2ms/step\n",
      "Test Accuracy: 96.7653273981671\n"
     ]
    }
   ],
   "source": [
    "print(\"[INFO] Calculating model accuracy\")\n",
    "scores = model.evaluate(x_test, y_test)\n",
    "print(f\"Test Accuracy: {scores[1]*100}\")"
   ]
  },
  {
   "cell_type": "code",
   "execution_count": 18,
   "metadata": {},
   "outputs": [
    {
     "name": "stdout",
     "output_type": "stream",
     "text": [
      "430/430 [==============================] - 1s 3ms/step\n"
     ]
    }
   ],
   "source": [
    "predictions = model.predict(x_test,verbose=1)"
   ]
  },
  {
   "cell_type": "code",
   "execution_count": 19,
   "metadata": {},
   "outputs": [
    {
     "name": "stdout",
     "output_type": "stream",
     "text": [
      "[[40  0  4  0  0  1  0  0  0  0  0]\n",
      " [ 0 38  0  0  0  0  0  0  0  0  0]\n",
      " [ 6  0 29  0  0  0  0  0  0  0  0]\n",
      " [ 0  0  0 21 17  0  0  3  0  0  0]\n",
      " [ 0  0  0  0 43  0  0  2  0  0  0]\n",
      " [ 0  0  0  0  1 39  0  1  0  0  0]\n",
      " [ 0  0  0  0  0  9 14  9  0  0  0]\n",
      " [ 0  0  0  0  1  0  0 29  0  0  0]\n",
      " [ 0  0  0  0  2  0  0  0 42  0  0]\n",
      " [ 0  0  0  0  1  7  2  2  0 25  0]\n",
      " [ 0  0  0  0  6  3  0  0  0  1 32]]\n"
     ]
    },
    {
     "data": {
      "text/plain": [
       "<Figure size 432x288 with 0 Axes>"
      ]
     },
     "execution_count": 19,
     "metadata": {},
     "output_type": "execute_result"
    },
    {
     "data": {
      "text/plain": [
       "<Figure size 432x288 with 0 Axes>"
      ]
     },
     "metadata": {},
     "output_type": "display_data"
    }
   ],
   "source": [
    "from sklearn.metrics import confusion_matrix\n",
    "pred = model.predict(x_test)\n",
    "pred = np.argmax(pred,axis=1)\n",
    "y_test2 = np.argmax(y_test,axis=1)\n",
    "\n",
    "cm = confusion_matrix(y_test2,pred)\n",
    "np.set_printoptions(precision=2)\n",
    "print(cm)\n",
    "plt.figure()"
   ]
  },
  {
   "cell_type": "code",
   "execution_count": 20,
   "metadata": {},
   "outputs": [
    {
     "data": {
      "image/png": "[encoded data removed]",
      "text/plain": [
       "<Figure size 432x288 with 2 Axes>"
      ]
     },
     "metadata": {
      "needs_background": "light"
     },
     "output_type": "display_data"
    }
   ],
   "source": [
    "import seaborn as sns\n",
    "import matplotlib.pyplot as plt \n",
    "\n",
    "ax= plt.subplot()\n",
    "sns.heatmap(cm, annot=True, ax = ax); #annot=True to annotate cells\n",
    "\n",
    "# labels, title and ticks\n",
    "ax.set_xlabel('Predicted labels');ax.set_ylabel('True labels'); \n",
    "ax.set_title('Confusion Matrix'); \n",
    "ax.xaxis.set_ticklabels(label_binarizer.classes_,rotation=90); ax.yaxis.set_ticklabels(label_binarizer.classes_,rotation=0);"
   ]
  },
  {
   "cell_type": "code",
   "execution_count": null,
   "metadata": {},
   "outputs": [],
   "source": [
    "print(confusion_matrix.classification_report(y_test, y_pred))"
   ]
  },
  {
   "cell_type": "markdown",
   "metadata": {
    "_uuid": "2a1f759db8afe933e62fe4cf8332cb303bb11be8"
   },
   "source": [
    "Save model using Pickle"
   ]
  },
  {
   "cell_type": "code",
   "execution_count": 21,
   "metadata": {
    "_uuid": "5cdf06adf492d79ed28fbdc36e02ad7489c7b33e"
   },
   "outputs": [
    {
     "name": "stdout",
     "output_type": "stream",
     "text": [
      "[INFO] Saving model...\n"
     ]
    }
   ],
   "source": [
    "# save the model to disk\n",
    "print(\"[INFO] Saving model...\")\n",
    "model.save('mymodel.h5')"
   ]
  },
  {
   "cell_type": "code",
   "execution_count": null,
   "metadata": {},
   "outputs": [],
   "source": []
  }
 ],
 "metadata": {
  "kernelspec": {
   "display_name": "Python 3",
   "language": "python",
   "name": "python3"
  },
  "language_info": {
   "codemirror_mode": {
    "name": "ipython",
    "version": 3
   },
   "file_extension": ".py",
   "mimetype": "text/x-python",
   "name": "python",
   "nbconvert_exporter": "python",
   "pygments_lexer": "ipython3",
   "version": "3.7.3"
  }
 },
 "nbformat": 4,
 "nbformat_minor": 1
}
